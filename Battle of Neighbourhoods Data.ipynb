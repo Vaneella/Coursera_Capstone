{
 "cells": [
  {
   "cell_type": "markdown",
   "metadata": {},
   "source": [
    "# Battle of the Neighbourhoods - Data \n",
    "\n",
    "## Data Description:\n",
    "The Data used will be the same Scarborough dataset used previously, found on Wikipedia and consists of the latitude, longitude and postal codes of neighbourhoods in Scarborough.\n",
    "The data link is as follows:\n",
    "https://en.wikipedia.org/wiki/List_of_postal_codes_of_Canada:_M\n",
    "\n",
    "## Using the Data\n",
    "The Foursquare API will be used to help identify venues and/or facilities in the vicinity of the neighbourhood. All possible Foursquare location information will be requested and used to do so and will be the sole source of data and information in this project. Data collected from the API include names of the venue, its location, its menu (if applicable) and photos taken of the venue.\n",
    "\n",
    "As per the data collected from Foursquare's location information, for neighbourhoods it will contain:\n",
    "    Neighbourhood name\n",
    "    Latitude of neighbourhood\n",
    "    Longitude of neighbourhood\n",
    "    \n",
    "For the venue details, the information will contain:\n",
    "    Name of the venue\n",
    "    Latitude of the venue\n",
    "    Longitude of the venue\n",
    "    Type of venue\n"
   ]
  }
 ],
 "metadata": {
  "kernelspec": {
   "display_name": "Python 3",
   "language": "python",
   "name": "python3"
  },
  "language_info": {
   "codemirror_mode": {
    "name": "ipython",
    "version": 3
   },
   "file_extension": ".py",
   "mimetype": "text/x-python",
   "name": "python",
   "nbconvert_exporter": "python",
   "pygments_lexer": "ipython3",
   "version": "3.8.5"
  }
 },
 "nbformat": 4,
 "nbformat_minor": 4
}
