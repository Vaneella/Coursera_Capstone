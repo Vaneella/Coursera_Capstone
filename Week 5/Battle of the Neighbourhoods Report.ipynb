{
 "cells": [
  {
   "cell_type": "markdown",
   "metadata": {},
   "source": [
    "# Battle of the Neighbourhoods"
   ]
  },
  {
   "cell_type": "markdown",
   "metadata": {},
   "source": [
    "## Introduction"
   ]
  },
  {
   "cell_type": "markdown",
   "metadata": {},
   "source": [
    "### Business Problem\n",
    "\n",
    "The purpose of this project is to aim to inform people of the facilities in a given neighbourhood, helping them making decisions to determine if this neighbourhood is the right one for them as compared to others in Scarborough in Toronto.\n",
    "\n",
    "Internal migrants of Canada would take into account specific factors such as whether housing is affordable, school ratings, access to facilities such as cafes, supermarkets, medical clinics, shopping centres etc. Other features which will be included in the analysis for people potentially migrating to Scarborugh are crime rates, access by road, weather, emergency services, sanitation services and social or recreational venues. A comparative analysis with other neighbourhoods will also be provided to create awareness for those planning to move here.\n",
    "\n",
    "The problems the project will aim to solve will be to sort housing prices in ascending order and sorting schools based on their locations, ratings and fee prices."
   ]
  },
  {
   "cell_type": "markdown",
   "metadata": {},
   "source": [
    "### Data\n",
    "\n",
    "#### Data Description\n",
    "The Data used will be the same Scarborough dataset used previously, found on Wikipedia and consists of the latitude, longitude and postal codes of neighbourhoods in Scarborough. The data link is as follows: https://en.wikipedia.org/wiki/List_of_postal_codes_of_Canada:_M\n",
    "\n",
    "#### Using the Data\n",
    "The Foursquare API will be used to help identify venues and/or facilities in the vicinity of the neighbourhood. All possible Foursquare location information will be requested and used to do so and will be the sole source of data and information in this project. Data collected from the API include names of the venue, its location, its menu (if applicable) and photos taken of the venue.\n",
    "\n",
    "As per the data collected from Foursquare's location information, for neighbourhoods it will contain: Neighbourhood name Latitude of neighbourhood Longitude of neighbourhood\n",
    "\n",
    "For the venue details, the information will contain: Name of the venue Latitude of the venue Longitude of the venue Type of venue"
   ]
  },
  {
   "cell_type": "markdown",
   "metadata": {},
   "source": [
    "#### Location\n",
    "Scarborough is a largely multicultural neighbourhood of Toronto and is home to diverse cultures and religions. Being a neighbourhood that is rising in popularity as well as rates of immigration, Scarborough is the perfect location to analyse.\n",
    "\n",
    "#### Foursquare API\n",
    "The Foursquare API will be used to gather resources and information in order to provide details about a business as well as performing location analysis. Neighbourhoods will be analysed and due to restrictions, neihgbour hood parameters will be determined as well as a radius parameters.\n",
    "\n",
    "#### Analysis Approach\n",
    "Comparable analysis will be done using K-Means clustering in order to explore neighbourhoods and cluster them according to certain criteria."
   ]
  },
  {
   "cell_type": "markdown",
   "metadata": {},
   "source": [
    "Map of Toronto:"
   ]
  },
  {
   "cell_type": "markdown",
   "metadata": {},
   "source": [
    "![title](Downloads/Toronto_Map.jpg)"
   ]
  },
  {
   "cell_type": "markdown",
   "metadata": {},
   "source": [
    "## Methodology"
   ]
  },
  {
   "cell_type": "markdown",
   "metadata": {},
   "source": [
    "#### Clustering\n",
    "In order to compare the two cities, neighbourhoods were clustered according to similar factors. To do so, an unsupervised machine learning methodology was used: k-means clustering"
   ]
  },
  {
   "cell_type": "markdown",
   "metadata": {},
   "source": [
    "#### K-means Clustering:\n",
    "![title](Downloads/k-means_clustering.jpg)"
   ]
  },
  {
   "cell_type": "markdown",
   "metadata": {},
   "source": [
    "#### Most common venues:\n",
    "![title](Downloads/common_venues.jpg)"
   ]
  },
  {
   "attachments": {},
   "cell_type": "markdown",
   "metadata": {},
   "source": [
    "## Results\n",
    "\n",
    "#### Map of Scarborough Clusters:\n",
    "![title](Downloads/Scarborough_clusters.jpg)"
   ]
  },
  {
   "cell_type": "markdown",
   "metadata": {},
   "source": [
    "#### Average Price of housing in Scarborough by clusters:\n",
    "\n",
    "![title](Downloads/average_housing_prices.png)"
   ]
  },
  {
   "cell_type": "markdown",
   "metadata": {},
   "source": [
    "#### School Ratings in Scarborough by clusters:\n",
    "![title](Downloads/school_rating.png)"
   ]
  },
  {
   "cell_type": "markdown",
   "metadata": {},
   "source": [
    "## Discussion\n",
    "\n",
    "The purpose of this project was to provide insights into the different neighbourhoods of Scarborough that would appeal to those who are planning to migrate to this borough as well as providing important details as to what they can look forward to. The project aims to inform readers of social venues that would appeal to certain types of people, connectivity via roads, shopping venues and other venues that are nearby.\n",
    "\n",
    "The histograms provide visualisations of the average price of housing  for each neighbourhood in Scarborough as well as the ratings of schools in the neighbourhoods"
   ]
  },
  {
   "cell_type": "markdown",
   "metadata": {},
   "source": [
    "## Conclusion\n",
    "\n",
    "In this project, k-means clustering was used in separate neighbourhoods to create 10 clusters from the dataset chosen. Using the above histograms, the results show average housing prices in the neighbourhoods and the school ratings accordingly.\n",
    "\n",
    "This project has provided me the opportunity to showcase a practical application of a real world problem that can be answered using data science tools and methodology. Creating maps with the pyhton package Folium is a very powerful tool which can analyse and visualise to aid in making better decisions with confidence, back by facts.\n",
    "\n",
    "This project can be improved upon in different locations to provide the same or similar insights on a cost-effective basis."
   ]
  }
 ],
 "metadata": {
  "kernelspec": {
   "display_name": "Python 3",
   "language": "python",
   "name": "python3"
  },
  "language_info": {
   "codemirror_mode": {
    "name": "ipython",
    "version": 3
   },
   "file_extension": ".py",
   "mimetype": "text/x-python",
   "name": "python",
   "nbconvert_exporter": "python",
   "pygments_lexer": "ipython3",
   "version": "3.8.5"
  }
 },
 "nbformat": 4,
 "nbformat_minor": 4
}
