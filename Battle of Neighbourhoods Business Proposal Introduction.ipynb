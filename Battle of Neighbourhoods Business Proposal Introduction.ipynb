{
 "cells": [
  {
   "cell_type": "markdown",
   "metadata": {},
   "source": [
    "# Battle of Neighbourhoods - Business Proposal/ Introduction"
   ]
  },
  {
   "cell_type": "markdown",
   "metadata": {},
   "source": [
    "## Business Problem\n",
    "The purpose of this project is to aim to inform people of the facilities in a given neighbourhood, helping them making decisions to determine if this neighbourhood is the right one for them as compared to others in Scarborough in Toronto.\n",
    "\n",
    "Internal migrants of Canada would take into account specific factors such as whether housing is affordable, school ratings, access to facilities such as cafes, supermarkets, medical clinics, shopping centres etc. Other features which will be included in the analysis for people potentially migrating to Scarborugh are crime rates, access by road, weather, emergency services, sanitation services and social or recreational venues. A comparative analysis with other neighbourhoods will also be provided to create awareness for those planning to move here.\n",
    "\n",
    "The problems the project will aim to solve will be to sort housing prices in ascending order and sorting schools based on their locations, ratings and fee prices.\n",
    "\n",
    "## Location\n",
    "Scarborough is a largely multicultural neighbourhood of Toronto and is home to diverse cultures and religions. Being a neighbourhood that is rising in popularity as well as rates of immigration, Scarborough is the perfect location to analyse.\n",
    "\n",
    "## Foursquare API\n",
    "The Foursquare API will be used to gather resources and information in order to provide details about a business as well as performing location analysis. Neighbourhoods will be analysed and due to restrictions, neihgbour hood parameters will be determined as well as a radius parameters.\n",
    "\n",
    "## Analysis Approach\n",
    "Comparable analysis will be done using K-Means clustering in order to explore neighbourhoods and cluster them according to certain criteria."
   ]
  }
 ],
 "metadata": {
  "kernelspec": {
   "display_name": "Python 3",
   "language": "python",
   "name": "python3"
  },
  "language_info": {
   "codemirror_mode": {
    "name": "ipython",
    "version": 3
   },
   "file_extension": ".py",
   "mimetype": "text/x-python",
   "name": "python",
   "nbconvert_exporter": "python",
   "pygments_lexer": "ipython3",
   "version": "3.8.5"
  }
 },
 "nbformat": 4,
 "nbformat_minor": 4
}
